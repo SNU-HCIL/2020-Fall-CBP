{
 "cells": [
  {
   "cell_type": "markdown",
   "metadata": {},
   "source": [
    "# Python으로 코드의 실행 시간 측정하기"
   ]
  },
  {
   "cell_type": "code",
   "execution_count": 1,
   "metadata": {},
   "outputs": [
    {
     "name": "stdout",
     "output_type": "stream",
     "text": [
      "0.020763635635375977\n"
     ]
    }
   ],
   "source": [
    "import time\n",
    "\n",
    "time_start = time.time()\n",
    "x = 0\n",
    "for i in range(100000):\n",
    "    x += 1\n",
    "time_end = time.time()\n",
    "\n",
    "print(time_end - time_start)"
   ]
  },
  {
   "cell_type": "markdown",
   "metadata": {},
   "source": [
    "참고) Jupyter Notebook에는 아래와 같은 utility도 있음"
   ]
  },
  {
   "cell_type": "code",
   "execution_count": 2,
   "metadata": {},
   "outputs": [
    {
     "name": "stdout",
     "output_type": "stream",
     "text": [
      "CPU times: user 10.7 ms, sys: 0 ns, total: 10.7 ms\n",
      "Wall time: 10.4 ms\n"
     ]
    }
   ],
   "source": [
    "%%time\n",
    "\n",
    "x = 0\n",
    "for i in range(100000):\n",
    "    x += 1"
   ]
  },
  {
   "cell_type": "markdown",
   "metadata": {},
   "source": [
    "# Bubble sort, Quick sort, and more"
   ]
  },
  {
   "cell_type": "code",
   "execution_count": 3,
   "metadata": {},
   "outputs": [
    {
     "data": {
      "text/plain": [
       "[3656, 8009, 1290, 74, 8898, 8314, 7695, 2218, 1628, 6986]"
      ]
     },
     "execution_count": 3,
     "metadata": {},
     "output_type": "execute_result"
    }
   ],
   "source": [
    "import random\n",
    "\n",
    "def random_matrix(n, k=10000):\n",
    "    return [random.randint(1, k) for _ in range(n)]\n",
    "\n",
    "random_matrix(10)"
   ]
  },
  {
   "cell_type": "code",
   "execution_count": 4,
   "metadata": {},
   "outputs": [
    {
     "name": "stdout",
     "output_type": "stream",
     "text": [
      "[1, 2, 3, 4, 5, 6, 7, 8, 9, 10, 11, 12, 13, 14, 15, 16, 17, 18, 19, 20, 21, 22, 23, 24, 25, 26, 27, 28, 29, 30, 31, 16, 32, 64, 128, 256, 512, 1024, 2048, 4096, 8192, 16384, 32768, 65536, 131072, 262144, 524288, 1048576]\n",
      "[(1, [6312]), (2, [6891, 664]), (3, [4243, 8377, 7962]), (4, [6635, 4970, 7809, 5867]), (5, [9559, 3579, 8269, 2282, 4618])]\n"
     ]
    }
   ],
   "source": [
    "random.seed(0)\n",
    "\n",
    "ns = [*range(1, 32), *(2**i for i in range(4, 21))]\n",
    "random_matrices = {\n",
    "    n: random_matrix(n)\n",
    "    for n in ns\n",
    "}\n",
    "\n",
    "print(ns)\n",
    "print(list(random_matrices.items())[:5])"
   ]
  },
  {
   "cell_type": "code",
   "execution_count": 5,
   "metadata": {},
   "outputs": [
    {
     "name": "stdout",
     "output_type": "stream",
     "text": [
      "1\t 0.000002\n",
      "2\t 0.000003\n",
      "3\t 0.000003\n",
      "4\t 0.000003\n",
      "5\t 0.000004\n",
      "6\t 0.000004\n",
      "7\t 0.000004\n",
      "8\t 0.000005\n",
      "9\t 0.000007\n",
      "10\t 0.000008\n",
      "11\t 0.000009\n",
      "12\t 0.000012\n",
      "13\t 0.000014\n",
      "14\t 0.000013\n",
      "15\t 0.000017\n",
      "16\t 0.000018\n",
      "17\t 0.000021\n",
      "18\t 0.000021\n",
      "19\t 0.000024\n",
      "20\t 0.000026\n",
      "21\t 0.000028\n",
      "22\t 0.000031\n",
      "23\t 0.000032\n",
      "24\t 0.000033\n",
      "25\t 0.000041\n",
      "26\t 0.000043\n",
      "27\t 0.000043\n",
      "28\t 0.000051\n",
      "29\t 0.000052\n",
      "30\t 0.000050\n",
      "31\t 0.000061\n",
      "16\t 0.000012\n",
      "32\t 0.000059\n",
      "64\t 0.000244\n",
      "128\t 0.000878\n",
      "256\t 0.003383\n",
      "512\t 0.015679\n",
      "1024\t 0.067179\n",
      "2048\t 0.283398\n",
      "4096\t 1.135275\n",
      "8192\t 4.531034\n",
      "16384\t 18.365484\n"
     ]
    }
   ],
   "source": [
    "def bubble_sort(l):\n",
    "    for i in range(len(l) - 1):\n",
    "        for j in range(len(l) - i - 1):\n",
    "            if l[j] > l[j+1]:\n",
    "                l[j], l[j+1] = l[j+1], l[j]\n",
    "    return l\n",
    "\n",
    "for n in ns:\n",
    "    time_start = time.time()\n",
    "    bubble_sort(random_matrices[n])\n",
    "    time_end = time.time()\n",
    "    print(f\"{n}\\t{time_end - time_start: .6f}\")\n",
    "    \n",
    "    if time_end - time_start >= 15:\n",
    "        break"
   ]
  },
  {
   "cell_type": "code",
   "execution_count": 6,
   "metadata": {},
   "outputs": [
    {
     "name": "stdout",
     "output_type": "stream",
     "text": [
      "1\t 0.000004\n",
      "2\t 0.000004\n",
      "3\t 0.000003\n",
      "4\t 0.000003\n",
      "5\t 0.000004\n",
      "6\t 0.000005\n",
      "7\t 0.000006\n",
      "8\t 0.000007\n",
      "9\t 0.000008\n",
      "10\t 0.000010\n",
      "11\t 0.000012\n",
      "12\t 0.000012\n",
      "13\t 0.000013\n",
      "14\t 0.000015\n",
      "15\t 0.000016\n",
      "16\t 0.000019\n",
      "17\t 0.000021\n",
      "18\t 0.000021\n",
      "19\t 0.000024\n",
      "20\t 0.000025\n",
      "21\t 0.000028\n",
      "22\t 0.000029\n",
      "23\t 0.000031\n",
      "24\t 0.000034\n",
      "25\t 0.000035\n",
      "26\t 0.000039\n",
      "27\t 0.000042\n",
      "28\t 0.000045\n",
      "29\t 0.000046\n",
      "30\t 0.000052\n",
      "31\t 0.000052\n",
      "16\t 0.000017\n",
      "32\t 0.000057\n",
      "64\t 0.032323\n",
      "128\t 0.000791\n",
      "256\t 0.002956\n",
      "512\t 0.011408\n",
      "1024\t 0.042169\n",
      "2048\t 0.160379\n",
      "4096\t 0.612459\n",
      "8192\t 2.033389\n",
      "16384\t 5.662130\n",
      "32768\t 0.072302\n",
      "65536\t 0.141942\n",
      "131072\t 0.316695\n",
      "262144\t 0.769475\n",
      "524288\t 2.248564\n",
      "1048576\t 7.079687\n"
     ]
    }
   ],
   "source": [
    "import sys\n",
    "sys.setrecursionlimit(50000)\n",
    "\n",
    "def quick_sort(l):\n",
    "    if not l:\n",
    "        return l\n",
    "    \n",
    "    pivot = l[0]\n",
    "    le, g = [], []\n",
    "    for num in l[1:]:\n",
    "        if num <= pivot:\n",
    "            le.append(num)\n",
    "        else:\n",
    "            g.append(num)\n",
    "    \n",
    "    return quick_sort(le) + [pivot] + quick_sort(g)\n",
    "\n",
    "for n in ns:\n",
    "    time_start = time.time()\n",
    "    quick_sort(random_matrices[n])\n",
    "    time_end = time.time()\n",
    "    print(f\"{n}\\t{time_end - time_start: .6f}\")\n",
    "    \n",
    "    if time_end - time_start >= 15:\n",
    "        break"
   ]
  },
  {
   "cell_type": "code",
   "execution_count": 7,
   "metadata": {},
   "outputs": [
    {
     "name": "stdout",
     "output_type": "stream",
     "text": [
      "1\t 0.000004\n",
      "2\t 0.000001\n",
      "3\t 0.000001\n",
      "4\t 0.000001\n",
      "5\t 0.000001\n",
      "6\t 0.000001\n",
      "7\t 0.000001\n",
      "8\t 0.000001\n",
      "9\t 0.000001\n",
      "10\t 0.000001\n",
      "11\t 0.000001\n",
      "12\t 0.000001\n",
      "13\t 0.000001\n",
      "14\t 0.000001\n",
      "15\t 0.000001\n",
      "16\t 0.000003\n",
      "17\t 0.000002\n",
      "18\t 0.000001\n",
      "19\t 0.000001\n",
      "20\t 0.000001\n",
      "21\t 0.000002\n",
      "22\t 0.000001\n",
      "23\t 0.000001\n",
      "24\t 0.000001\n",
      "25\t 0.000001\n",
      "26\t 0.000002\n",
      "27\t 0.000001\n",
      "28\t 0.000001\n",
      "29\t 0.000001\n",
      "30\t 0.000001\n",
      "31\t 0.000001\n",
      "16\t 0.000001\n",
      "32\t 0.000001\n",
      "64\t 0.000002\n",
      "128\t 0.000006\n",
      "256\t 0.000007\n",
      "512\t 0.000015\n",
      "1024\t 0.000026\n",
      "2048\t 0.000057\n",
      "4096\t 0.000120\n",
      "8192\t 0.000268\n",
      "16384\t 0.000599\n",
      "32768\t 0.009401\n",
      "65536\t 0.020138\n",
      "131072\t 0.043152\n",
      "262144\t 0.090765\n",
      "524288\t 0.192119\n",
      "1048576\t 0.410781\n"
     ]
    }
   ],
   "source": [
    "def python_sort(l):\n",
    "    return sorted(l)\n",
    "\n",
    "for n in ns:\n",
    "    time_start = time.time()\n",
    "    python_sort(random_matrices[n])\n",
    "    time_end = time.time()\n",
    "    print(f\"{n}\\t{time_end - time_start: .6f}\")\n",
    "    \n",
    "    if time_end - time_start >= 15:\n",
    "        break"
   ]
  },
  {
   "cell_type": "markdown",
   "metadata": {},
   "source": [
    "# 오래 걸리는 문제"
   ]
  },
  {
   "cell_type": "code",
   "execution_count": 9,
   "metadata": {},
   "outputs": [
    {
     "name": "stdout",
     "output_type": "stream",
     "text": [
      "1\t 0.000044\n",
      "2\t 0.000049\n",
      "3\t 0.000084\n",
      "4\t 0.000485\n",
      "5\t 0.000706\n",
      "6\t 0.009296\n",
      "7\t 0.005884\n",
      "8\t 0.171457\n",
      "9\t 2.401579\n",
      "10\t 16.613520\n"
     ]
    }
   ],
   "source": [
    "def is_sorted(l):\n",
    "    for i in range(len(l) - 1):\n",
    "        if l[i] > l[i+1]:\n",
    "            return False\n",
    "    return True\n",
    "\n",
    "def bogo_sort(l):\n",
    "    random.seed(0)\n",
    "    while True:\n",
    "        random.shuffle(l)\n",
    "        if is_sorted(l):\n",
    "            return l\n",
    "\n",
    "for n in ns:\n",
    "    time_start = time.time()\n",
    "    bogo_sort(random_matrices[n])\n",
    "    time_end = time.time()\n",
    "    print(f\"{n}\\t{time_end - time_start: .6f}\")\n",
    "    \n",
    "    if time_end - time_start >= 15:\n",
    "        break"
   ]
  },
  {
   "cell_type": "code",
   "execution_count": 10,
   "metadata": {},
   "outputs": [
    {
     "data": {
      "text/plain": [
       "(-7, 10, 3, -6)"
      ]
     },
     "execution_count": 10,
     "metadata": {},
     "output_type": "execute_result"
    }
   ],
   "source": [
    "from itertools import combinations\n",
    "\n",
    "def subset_sum(l):\n",
    "    for r in range(1, len(l)+1):\n",
    "        for combination in combinations(l, r):\n",
    "            if sum(combination) == 0:\n",
    "                return combination\n",
    "    return None\n",
    "\n",
    "l = [-7, 10, 5, 3, -6, 23, -9]            \n",
    "subset_sum(l)"
   ]
  },
  {
   "cell_type": "code",
   "execution_count": 11,
   "metadata": {},
   "outputs": [
    {
     "name": "stdout",
     "output_type": "stream",
     "text": [
      "1\t 0.000005\tNone\n",
      "2\t 0.000004\tNone\n",
      "3\t 0.000004\tNone\n",
      "4\t 0.000005\tNone\n",
      "5\t 0.000008\tNone\n",
      "6\t 0.000014\tNone\n",
      "7\t 0.000023\tNone\n",
      "8\t 0.000043\tNone\n",
      "9\t 0.000085\tNone\n",
      "10\t 0.000165\tNone\n",
      "11\t 0.000334\tNone\n",
      "12\t 0.000696\tNone\n",
      "13\t 0.001396\tNone\n",
      "14\t 0.002775\tNone\n",
      "15\t 0.005575\tNone\n",
      "16\t 0.011308\tNone\n",
      "17\t 0.022588\tNone\n",
      "18\t 0.047124\tNone\n",
      "19\t 0.093829\tNone\n",
      "20\t 0.190393\tNone\n",
      "21\t 0.370449\tNone\n",
      "22\t 0.754593\tNone\n",
      "23\t 1.523962\tNone\n",
      "24\t 3.095853\tNone\n",
      "25\t 6.280814\tNone\n",
      "26\t 12.752086\tNone\n",
      "27\t 26.814720\tNone\n"
     ]
    }
   ],
   "source": [
    "for n in ns:\n",
    "    time_start = time.time()\n",
    "    subset = subset_sum(random_matrices[n])\n",
    "    time_end = time.time()\n",
    "    print(f\"{n}\\t{time_end - time_start: .6f}\\t{subset}\")\n",
    "    \n",
    "    if time_end - time_start >= 15:\n",
    "        break"
   ]
  }
 ],
 "metadata": {
  "kernelspec": {
   "display_name": "Python 3",
   "language": "python",
   "name": "python3"
  },
  "language_info": {
   "codemirror_mode": {
    "name": "ipython",
    "version": 3
   },
   "file_extension": ".py",
   "mimetype": "text/x-python",
   "name": "python",
   "nbconvert_exporter": "python",
   "pygments_lexer": "ipython3",
   "version": "3.6.9"
  }
 },
 "nbformat": 4,
 "nbformat_minor": 4
}
